{
 "cells": [
  {
   "cell_type": "code",
   "execution_count": 31,
   "id": "7b0f89a0",
   "metadata": {},
   "outputs": [],
   "source": [
    "import math as m\n",
    "def log(x):\n",
    "    try:\n",
    "        return m.log(x,2)\n",
    "    except:\n",
    "        return 0"
   ]
  },
  {
   "cell_type": "markdown",
   "id": "753436e3",
   "metadata": {},
   "source": [
    "## Question 1"
   ]
  },
  {
   "cell_type": "code",
   "execution_count": 32,
   "id": "58d909e3",
   "metadata": {},
   "outputs": [],
   "source": [
    "def entropy(l):\n",
    "    entr=0\n",
    "    for i in l:\n",
    "        entr+=i*log(i)\n",
    "    return -entr"
   ]
  },
  {
   "cell_type": "code",
   "execution_count": 33,
   "id": "6329363c",
   "metadata": {},
   "outputs": [
    {
     "data": {
      "text/plain": [
       "1.4253642047367425"
      ]
     },
     "execution_count": 33,
     "metadata": {},
     "output_type": "execute_result"
    }
   ],
   "source": [
    "entropy([0.41,0.46,0.13])"
   ]
  },
  {
   "cell_type": "code",
   "execution_count": 34,
   "id": "f490c844",
   "metadata": {},
   "outputs": [],
   "source": [
    "#entropy([0.343])"
   ]
  },
  {
   "cell_type": "code",
   "execution_count": 35,
   "id": "a2b3ceed",
   "metadata": {},
   "outputs": [
    {
     "data": {
      "text/plain": [
       "0.7219280948873623"
      ]
     },
     "execution_count": 35,
     "metadata": {},
     "output_type": "execute_result"
    }
   ],
   "source": [
    "sm_y_lc_y=4/5\n",
    "sm_y_lc_n=1/5\n",
    "sm_n_lc_y=1/5\n",
    "sm_n_lc_n=4/5\n",
    "sm_y_entropy=entropy([sm_y_lc_y,sm_y_lc_n])\n",
    "sm_n_entropy=sm_y_entropy # As the observations in the childs are the same\n",
    "sm_n_entropy"
   ]
  },
  {
   "cell_type": "code",
   "execution_count": 36,
   "id": "4433ac28",
   "metadata": {},
   "outputs": [
    {
     "name": "stdout",
     "output_type": "stream",
     "text": [
      "Level1 Info Gain for smoking is 0.2780719051126377\n"
     ]
    }
   ],
   "source": [
    "parent=1\n",
    "weighted_sm_entropy=sm_n_entropy # avg(2)=1 As both values are same\n",
    "Info_gain_sm=parent-weighted_sm_entropy\n",
    "print(f'Level1 Info Gain for smoking is {Info_gain_sm}')"
   ]
  },
  {
   "cell_type": "markdown",
   "id": "f3998f03",
   "metadata": {},
   "source": [
    "### Radeon Exposure"
   ]
  },
  {
   "cell_type": "code",
   "execution_count": 37,
   "id": "a130f52d",
   "metadata": {},
   "outputs": [
    {
     "name": "stdout",
     "output_type": "stream",
     "text": [
      "Radon Exposure Yes entropy -0.0\n",
      "Radon Exposure No entropy 0.9544340029249649\n"
     ]
    }
   ],
   "source": [
    "re_y_lc_y=2/2\n",
    "re_y_lc_n=0/2\n",
    "re_n_lc_y=3/8\n",
    "re_n_lc_n=5/8\n",
    "re_y_entropy=entropy([re_y_lc_y,re_y_lc_n])\n",
    "re_n_entropy=entropy([re_n_lc_y,re_n_lc_n])\n",
    "print(f'Radon Exposure Yes entropy {re_y_entropy}')\n",
    "print(f'Radon Exposure No entropy {re_n_entropy}')"
   ]
  },
  {
   "cell_type": "code",
   "execution_count": 38,
   "id": "68aaca78",
   "metadata": {
    "scrolled": true
   },
   "outputs": [
    {
     "name": "stdout",
     "output_type": "stream",
     "text": [
      "Level1 Info Gain for Radon Exposure is 0.23645279766002802\n"
     ]
    }
   ],
   "source": [
    "weighted_re=0.2*re_y_entropy + 0.8 * re_n_entropy\n",
    "Info_gain_re=parent-weighted_re\n",
    "print(f'Level1 Info Gain for Radon Exposure is {Info_gain_re}')"
   ]
  },
  {
   "cell_type": "markdown",
   "id": "1fbb1fa6",
   "metadata": {},
   "source": [
    "### Chronic Cough"
   ]
  },
  {
   "cell_type": "code",
   "execution_count": 39,
   "id": "b0bf43ec",
   "metadata": {},
   "outputs": [
    {
     "name": "stdout",
     "output_type": "stream",
     "text": [
      "Radon Exposure Yes entropy 0.9852281360342516\n",
      "Radon Exposure No entropy 0.9182958340544896\n"
     ]
    }
   ],
   "source": [
    "cc_y_lc_y=4/7\n",
    "cc_y_lc_n=3/7\n",
    "cc_n_lc_y=1/3\n",
    "cc_n_lc_n=2/3\n",
    "cc_y_entropy=entropy([cc_y_lc_y,cc_y_lc_n])\n",
    "cc_n_entropy=entropy([cc_n_lc_y,cc_n_lc_n])\n",
    "print(f'Radon Exposure Yes entropy {cc_y_entropy}')\n",
    "print(f'Radon Exposure No entropy {cc_n_entropy}')"
   ]
  },
  {
   "cell_type": "code",
   "execution_count": 40,
   "id": "a4fb9af6",
   "metadata": {},
   "outputs": [
    {
     "name": "stdout",
     "output_type": "stream",
     "text": [
      "Level1 Info Gain for Chronic Cough is 0.034851554559677034\n"
     ]
    }
   ],
   "source": [
    "weighted_cc=0.7*cc_y_entropy + 0.3 * cc_n_entropy\n",
    "Info_gain_cc=parent-weighted_cc\n",
    "print(f'Level1 Info Gain for Chronic Cough is {Info_gain_cc}')"
   ]
  },
  {
   "cell_type": "markdown",
   "id": "500af9e7",
   "metadata": {},
   "source": [
    "### Weight Loss"
   ]
  },
  {
   "cell_type": "code",
   "execution_count": 41,
   "id": "6f67ccbf",
   "metadata": {},
   "outputs": [
    {
     "name": "stdout",
     "output_type": "stream",
     "text": [
      "Weight Loss Yes entropy 0.9709505944546686\n",
      "Weight Loss No entropy 0.9709505944546686\n"
     ]
    }
   ],
   "source": [
    "wl_y_lc_y=3/5\n",
    "wl_y_lc_n=2/5\n",
    "wl_n_lc_y=2/5\n",
    "wl_n_lc_n=3/5\n",
    "wl_y_entropy=entropy([wl_y_lc_y,wl_y_lc_n])\n",
    "wl_n_entropy=entropy([wl_n_lc_y,wl_n_lc_n])\n",
    "print(f'Weight Loss Yes entropy {wl_y_entropy}')\n",
    "print(f'Weight Loss No entropy {wl_n_entropy}')"
   ]
  },
  {
   "cell_type": "code",
   "execution_count": 42,
   "id": "ae365db7",
   "metadata": {},
   "outputs": [
    {
     "name": "stdout",
     "output_type": "stream",
     "text": [
      "Level1 Info Gain for weight loss is 0.02904940554533142\n"
     ]
    }
   ],
   "source": [
    "parent=1\n",
    "weighted_wl_entropy=wl_n_entropy # avg(2)=1 As both values are same\n",
    "Info_gain_sm=parent-weighted_wl_entropy\n",
    "print(f'Level1 Info Gain for weight loss is {Info_gain_sm}')"
   ]
  },
  {
   "cell_type": "code",
   "execution_count": null,
   "id": "e4d5d383",
   "metadata": {},
   "outputs": [],
   "source": []
  },
  {
   "cell_type": "markdown",
   "id": "8a0fac08",
   "metadata": {},
   "source": [
    "### Level 2 "
   ]
  },
  {
   "cell_type": "markdown",
   "id": "94ba099b",
   "metadata": {},
   "source": [
    "#### If Tobacco is Yes"
   ]
  },
  {
   "cell_type": "code",
   "execution_count": 43,
   "id": "56590bcd",
   "metadata": {},
   "outputs": [
    {
     "data": {
      "text/plain": [
       "0.7219280948873623"
      ]
     },
     "execution_count": 43,
     "metadata": {},
     "output_type": "execute_result"
    }
   ],
   "source": [
    "s_y_lc_y=4/5\n",
    "s_y_lc_n=1/5\n",
    "parent_t=entropy([s_y_lc_y,s_y_lc_n])\n",
    "parent_t"
   ]
  },
  {
   "cell_type": "markdown",
   "id": "b9cc1f87",
   "metadata": {},
   "source": [
    "#### Radeon Exposure"
   ]
  },
  {
   "cell_type": "code",
   "execution_count": 44,
   "id": "ed260cad",
   "metadata": {
    "scrolled": true
   },
   "outputs": [
    {
     "name": "stdout",
     "output_type": "stream",
     "text": [
      "Radon Exposure Yes entropy -0.0\n",
      "Radon Exposure No entropy 0.8112781244591328\n"
     ]
    }
   ],
   "source": [
    "re_y_lc_y=1/1\n",
    "re_y_lc_n=0/1\n",
    "re_n_lc_y=3/4\n",
    "re_n_lc_n=1/4\n",
    "re_y_entropy=entropy([re_y_lc_y,re_y_lc_n])\n",
    "re_n_entropy=entropy([re_n_lc_y,re_n_lc_n])\n",
    "print(f'Radon Exposure Yes entropy {re_y_entropy}')\n",
    "print(f'Radon Exposure No entropy {re_n_entropy}')"
   ]
  },
  {
   "cell_type": "code",
   "execution_count": 45,
   "id": "b11d7707",
   "metadata": {},
   "outputs": [
    {
     "name": "stdout",
     "output_type": "stream",
     "text": [
      "Level2 Info Gain for Radon Exposure is 0.07290559532005603\n"
     ]
    }
   ],
   "source": [
    "weighted_re=0.2*re_y_entropy + 0.8 * re_n_entropy\n",
    "Info_gain_re=parent_t-weighted_re\n",
    "print(f'Level2 Info Gain for Radon Exposure is {Info_gain_re}')"
   ]
  },
  {
   "cell_type": "code",
   "execution_count": null,
   "id": "c828ecac",
   "metadata": {},
   "outputs": [],
   "source": []
  },
  {
   "cell_type": "markdown",
   "id": "e55131d1",
   "metadata": {},
   "source": [
    "#### Chronic Cough"
   ]
  },
  {
   "cell_type": "code",
   "execution_count": 46,
   "id": "8265ec57",
   "metadata": {},
   "outputs": [
    {
     "name": "stdout",
     "output_type": "stream",
     "text": [
      "Radon Exposure Yes entropy -0.0\n",
      "Radon Exposure No entropy -0.0\n"
     ]
    }
   ],
   "source": [
    "cc_y_lc_y=4/4\n",
    "cc_y_lc_n=0/4\n",
    "cc_n_lc_y=0/1\n",
    "cc_n_lc_n=1/1\n",
    "cc_y_entropy=entropy([cc_y_lc_y,cc_y_lc_n])\n",
    "cc_n_entropy=entropy([cc_n_lc_y,cc_n_lc_n])\n",
    "print(f'Radon Exposure Yes entropy {cc_y_entropy}')\n",
    "print(f'Radon Exposure No entropy {cc_n_entropy}')"
   ]
  },
  {
   "cell_type": "code",
   "execution_count": 47,
   "id": "4dafb6aa",
   "metadata": {},
   "outputs": [
    {
     "name": "stdout",
     "output_type": "stream",
     "text": [
      "Level2 Info Gain for Chronic Cough is 0.7219280948873623\n"
     ]
    }
   ],
   "source": [
    "weighted_cc=0.8*cc_y_entropy + 0.2 * cc_n_entropy\n",
    "Info_gain_cc=parent_t-weighted_cc\n",
    "print(f'Level2 Info Gain for Chronic Cough is {Info_gain_cc}')"
   ]
  },
  {
   "cell_type": "code",
   "execution_count": 48,
   "id": "7e043116",
   "metadata": {},
   "outputs": [],
   "source": [
    "#0.4*0.5 + 0.6*0.444"
   ]
  },
  {
   "cell_type": "markdown",
   "id": "4ab4a915",
   "metadata": {},
   "source": [
    "#### Weight Loss"
   ]
  },
  {
   "cell_type": "code",
   "execution_count": 49,
   "id": "7f5be91a",
   "metadata": {},
   "outputs": [
    {
     "name": "stdout",
     "output_type": "stream",
     "text": [
      "Weight Loss Yes entropy -0.0\n",
      "Weight Loss No entropy 0.9182958340544896\n"
     ]
    }
   ],
   "source": [
    "wl_y_lc_y=2/2\n",
    "wl_y_lc_n=0/2\n",
    "wl_n_lc_y=2/3\n",
    "wl_n_lc_n=1/3\n",
    "wl_y_entropy=entropy([wl_y_lc_y,wl_y_lc_n])\n",
    "wl_n_entropy=entropy([wl_n_lc_y,wl_n_lc_n])\n",
    "print(f'Weight Loss Yes entropy {wl_y_entropy}')\n",
    "print(f'Weight Loss No entropy {wl_n_entropy}')"
   ]
  },
  {
   "cell_type": "code",
   "execution_count": 50,
   "id": "4445eb5d",
   "metadata": {},
   "outputs": [
    {
     "name": "stdout",
     "output_type": "stream",
     "text": [
      "Level2 Info Gain for weight loss is 0.17095059445466865\n"
     ]
    }
   ],
   "source": [
    "weighted_wl_entropy=0.6*wl_n_entropy \n",
    "Info_gain_sm=parent_t-weighted_wl_entropy\n",
    "print(f'Level2 Info Gain for weight loss is {Info_gain_sm}')"
   ]
  },
  {
   "cell_type": "code",
   "execution_count": null,
   "id": "f30fee02",
   "metadata": {},
   "outputs": [],
   "source": []
  },
  {
   "cell_type": "markdown",
   "id": "c3972e30",
   "metadata": {},
   "source": [
    "#### If Tobacco is No"
   ]
  },
  {
   "cell_type": "markdown",
   "id": "b10137a6",
   "metadata": {},
   "source": [
    "#### Radeon Exposure"
   ]
  },
  {
   "cell_type": "code",
   "execution_count": 53,
   "id": "e334633e",
   "metadata": {},
   "outputs": [
    {
     "name": "stdout",
     "output_type": "stream",
     "text": [
      "Radon Exposure Yes entropy -0.0\n",
      "Radon Exposure No entropy -0.0\n"
     ]
    }
   ],
   "source": [
    "re_y_lc_y=1/1\n",
    "re_y_lc_n=0/1\n",
    "re_n_lc_y=0/4\n",
    "re_n_lc_n=4/4\n",
    "re_y_entropy=entropy([re_y_lc_y,re_y_lc_n])\n",
    "re_n_entropy=entropy([re_n_lc_y,re_n_lc_n])\n",
    "print(f'Radon Exposure Yes entropy {re_y_entropy}')\n",
    "print(f'Radon Exposure No entropy {re_n_entropy}')"
   ]
  },
  {
   "cell_type": "code",
   "execution_count": 54,
   "id": "d8bb7d36",
   "metadata": {},
   "outputs": [
    {
     "name": "stdout",
     "output_type": "stream",
     "text": [
      "Level2 Info Gain for Radon Exposure is 0.7219280948873623\n"
     ]
    }
   ],
   "source": [
    "weighted_re=0.2*re_y_entropy + 0.8 * re_n_entropy\n",
    "Info_gain_re=parent_t-weighted_re\n",
    "print(f'Level2 Info Gain for Radon Exposure is {Info_gain_re}')"
   ]
  },
  {
   "cell_type": "code",
   "execution_count": 62,
   "id": "fb1e68f0",
   "metadata": {},
   "outputs": [],
   "source": [
    "# As we aleardy Fixated the left node of Tobacco Smoking as Chronic Cough\n",
    "#We will not calculate it again here"
   ]
  },
  {
   "cell_type": "markdown",
   "id": "cbdde089",
   "metadata": {},
   "source": [
    "#### Weight Loss"
   ]
  },
  {
   "cell_type": "code",
   "execution_count": 55,
   "id": "5ca93759",
   "metadata": {},
   "outputs": [
    {
     "name": "stdout",
     "output_type": "stream",
     "text": [
      "Weight Loss Yes entropy 0.9182958340544896\n",
      "Weight Loss No entropy -0.0\n"
     ]
    }
   ],
   "source": [
    "wl_y_lc_y=1/3\n",
    "wl_y_lc_n=2/3\n",
    "wl_n_lc_y=0/2\n",
    "wl_n_lc_n=2/2\n",
    "wl_y_entropy=entropy([wl_y_lc_y,wl_y_lc_n])\n",
    "wl_n_entropy=entropy([wl_n_lc_y,wl_n_lc_n])\n",
    "print(f'Weight Loss Yes entropy {wl_y_entropy}')\n",
    "print(f'Weight Loss No entropy {wl_n_entropy}')"
   ]
  },
  {
   "cell_type": "code",
   "execution_count": 56,
   "id": "a94cc2f6",
   "metadata": {},
   "outputs": [
    {
     "name": "stdout",
     "output_type": "stream",
     "text": [
      "Level2 Info Gain for weight loss is 0.17095059445466865\n"
     ]
    }
   ],
   "source": [
    "weighted_wl_entropy=0.6*wl_y_entropy +0.4*wl_n_entropy \n",
    "Info_gain_sm=parent_t-weighted_wl_entropy\n",
    "print(f'Level2 Info Gain for weight loss is {Info_gain_sm}')"
   ]
  },
  {
   "cell_type": "code",
   "execution_count": null,
   "id": "9ae7628c",
   "metadata": {},
   "outputs": [],
   "source": []
  },
  {
   "cell_type": "code",
   "execution_count": null,
   "id": "7129e31f",
   "metadata": {},
   "outputs": [],
   "source": []
  },
  {
   "cell_type": "code",
   "execution_count": null,
   "id": "4a7c93c9",
   "metadata": {},
   "outputs": [],
   "source": []
  },
  {
   "cell_type": "markdown",
   "id": "fe123d1e",
   "metadata": {},
   "source": [
    "## Question 2"
   ]
  },
  {
   "cell_type": "code",
   "execution_count": 57,
   "id": "67fbc7d8",
   "metadata": {},
   "outputs": [],
   "source": [
    "def log(x):\n",
    "    try:\n",
    "        return m.log(x,2)\n",
    "    except:\n",
    "        return 0"
   ]
  },
  {
   "cell_type": "markdown",
   "id": "b9c0d035",
   "metadata": {},
   "source": [
    "### 2 A"
   ]
  },
  {
   "cell_type": "code",
   "execution_count": 58,
   "id": "8ad4e564",
   "metadata": {},
   "outputs": [
    {
     "data": {
      "text/plain": [
       "1.4253642047367425"
      ]
     },
     "execution_count": 58,
     "metadata": {},
     "output_type": "execute_result"
    }
   ],
   "source": [
    "parent_entropy=-(0.41*log(0.41)+0.46*log(0.46)+0.13*log(0.13))\n",
    "parent_entropy"
   ]
  },
  {
   "cell_type": "markdown",
   "id": "3d9bfaae",
   "metadata": {},
   "source": [
    "### 2 B"
   ]
  },
  {
   "cell_type": "code",
   "execution_count": 33,
   "id": "71dfa8c5",
   "metadata": {},
   "outputs": [
    {
     "data": {
      "text/plain": [
       "0.7219280948873623"
      ]
     },
     "execution_count": 33,
     "metadata": {},
     "output_type": "execute_result"
    }
   ],
   "source": [
    "x_2_lh=-(0.8*log(0.8) + 0.2*log(0.2))\n",
    "x_2_lh"
   ]
  },
  {
   "cell_type": "code",
   "execution_count": 34,
   "id": "bc4b57cc",
   "metadata": {},
   "outputs": [
    {
     "data": {
      "text/plain": [
       "1.3794821565051398"
      ]
     },
     "execution_count": 34,
     "metadata": {},
     "output_type": "execute_result"
    }
   ],
   "source": [
    "p_a_rh=0.41/0.8\n",
    "p_b_rh=0.3/0.8\n",
    "p_c_rh=0.09/0.8\n",
    "x_2_rh=-(p_a_rh*log(p_a_rh) + p_b_rh * log(p_b_rh) + p_c_rh * log(p_c_rh))\n",
    "x_2_rh"
   ]
  },
  {
   "cell_type": "code",
   "execution_count": 35,
   "id": "7d0ad067",
   "metadata": {},
   "outputs": [],
   "source": [
    "weighted_x_2=0.2*x_2_lh + 0.8 * x_2_rh"
   ]
  },
  {
   "cell_type": "code",
   "execution_count": 36,
   "id": "77683182",
   "metadata": {},
   "outputs": [
    {
     "data": {
      "text/plain": [
       "1.2479713441815843"
      ]
     },
     "execution_count": 36,
     "metadata": {},
     "output_type": "execute_result"
    }
   ],
   "source": [
    "weighted_x_2"
   ]
  },
  {
   "cell_type": "code",
   "execution_count": 37,
   "id": "64932f5a",
   "metadata": {},
   "outputs": [
    {
     "data": {
      "text/plain": [
       "0.17739286055515824"
      ]
     },
     "execution_count": 37,
     "metadata": {},
     "output_type": "execute_result"
    }
   ],
   "source": [
    "Info_gain_x2=parent_entropy- weighted_x_2\n",
    "Info_gain_x2"
   ]
  },
  {
   "cell_type": "code",
   "execution_count": 38,
   "id": "5ce0ccc8",
   "metadata": {},
   "outputs": [
    {
     "data": {
      "text/plain": [
       "1.1503914187111117"
      ]
     },
     "execution_count": 38,
     "metadata": {},
     "output_type": "execute_result"
    }
   ],
   "source": [
    "# For x<=0.7\n",
    "p_a_lh = (0.5*0.4) / 0.7\n",
    "p_b_lh = (0.7*0.6 + 0.2*0.2 ) / 0.7\n",
    "p_c_lh=(0.2*0.2)/0.7\n",
    "#a_lh+b_lh + c_lh\n",
    "en_x_7_lh=-(p_a_lh*log(p_a_lh) + p_b_lh*log(p_b_lh) + p_c_lh*log(p_c_lh))\n",
    "en_x_7_lh"
   ]
  },
  {
   "cell_type": "code",
   "execution_count": 39,
   "id": "eb03e636",
   "metadata": {},
   "outputs": [
    {
     "data": {
      "text/plain": [
       "0.8812908992306927"
      ]
     },
     "execution_count": 39,
     "metadata": {},
     "output_type": "execute_result"
    }
   ],
   "source": [
    "# For x>0.7\n",
    "p_a_rh=(0.3*0.4 + 0.3*.3)/0.3\n",
    "p_b_rh=0\n",
    "p_c_rh=(.3*.3)/.3\n",
    "en_x_7_rh=-(p_a_rh*log(p_a_rh) + p_b_rh*log(p_b_rh) + p_c_rh*log(p_c_rh))\n",
    "en_x_7_rh"
   ]
  },
  {
   "cell_type": "code",
   "execution_count": 40,
   "id": "668afc72",
   "metadata": {},
   "outputs": [
    {
     "data": {
      "text/plain": [
       "1.069661262866986"
      ]
     },
     "execution_count": 40,
     "metadata": {},
     "output_type": "execute_result"
    }
   ],
   "source": [
    "weighted_x_7=0.7*en_x_7_lh + 0.3*en_x_7_rh\n",
    "weighted_x_7"
   ]
  },
  {
   "cell_type": "code",
   "execution_count": 41,
   "id": "b540e8ae",
   "metadata": {},
   "outputs": [
    {
     "data": {
      "text/plain": [
       "0.3557029418697566"
      ]
     },
     "execution_count": 41,
     "metadata": {},
     "output_type": "execute_result"
    }
   ],
   "source": [
    "Info_gain_x7=parent_entropy- weighted_x_7\n",
    "Info_gain_x7"
   ]
  },
  {
   "cell_type": "code",
   "execution_count": 42,
   "id": "3aa53272",
   "metadata": {},
   "outputs": [
    {
     "data": {
      "text/plain": [
       "1.1812908992306925"
      ]
     },
     "execution_count": 42,
     "metadata": {},
     "output_type": "execute_result"
    }
   ],
   "source": [
    "# For y<=0.6\n",
    "area_ly6=0.3*0.3  + 0.6*.7 + .3*.3\n",
    "p_a_lh=(.3*.3) / area_ly6\n",
    "p_b_lh=(0.6*.7)/area_ly6\n",
    "p_c_lh=(0.3*.3)/area_ly6\n",
    "en_y_6_lh=-(p_a_lh*log(p_a_lh) + p_b_lh*log(p_b_lh) + p_c_lh*log(p_c_lh))\n",
    "en_y_6_lh"
   ]
  },
  {
   "cell_type": "code",
   "execution_count": 43,
   "id": "8869ad99",
   "metadata": {},
   "outputs": [
    {
     "data": {
      "text/plain": [
       "0.9219280948873625"
      ]
     },
     "execution_count": 43,
     "metadata": {},
     "output_type": "execute_result"
    }
   ],
   "source": [
    "# For y >0.6\n",
    "area_ry6= .4*.8+.2*.2 + .2*.2\n",
    "p_a_rh=(.4*.8) / area_ry6\n",
    "p_b_rh=(.2*.2)/area_ry6\n",
    "p_c_rh=(.2*.2)/area_ry6\n",
    "en_y_6_rh=-(p_a_rh*log(p_a_rh) + p_b_rh*log(p_b_rh) + p_c_rh*log(p_c_rh))\n",
    "en_y_6_rh"
   ]
  },
  {
   "cell_type": "code",
   "execution_count": 44,
   "id": "75ba5950",
   "metadata": {},
   "outputs": [
    {
     "data": {
      "text/plain": [
       "1.0775457774933606"
      ]
     },
     "execution_count": 44,
     "metadata": {},
     "output_type": "execute_result"
    }
   ],
   "source": [
    "weighted_y_6=area_ly6*en_y_6_lh + area_ry6*en_y_6_rh\n",
    "weighted_y_6"
   ]
  },
  {
   "cell_type": "code",
   "execution_count": 45,
   "id": "02efd468",
   "metadata": {},
   "outputs": [
    {
     "data": {
      "text/plain": [
       "0.34781842724338197"
      ]
     },
     "execution_count": 45,
     "metadata": {},
     "output_type": "execute_result"
    }
   ],
   "source": [
    "Info_gain_y6=parent_entropy- weighted_y_6\n",
    "Info_gain_y6"
   ]
  },
  {
   "cell_type": "code",
   "execution_count": null,
   "id": "52ee8756",
   "metadata": {},
   "outputs": [],
   "source": []
  },
  {
   "cell_type": "markdown",
   "id": "2966170e",
   "metadata": {},
   "source": [
    "## Question 3"
   ]
  },
  {
   "cell_type": "code",
   "execution_count": 1,
   "id": "ce241b9e",
   "metadata": {},
   "outputs": [],
   "source": [
    "def gini(l):\n",
    "    gini=0\n",
    "    for i in l:\n",
    "        gini+=i**2\n",
    "    return 1-gini"
   ]
  },
  {
   "cell_type": "markdown",
   "id": "dfa0fb83",
   "metadata": {},
   "source": [
    "#### Question A"
   ]
  },
  {
   "cell_type": "code",
   "execution_count": 69,
   "id": "4d11640e",
   "metadata": {},
   "outputs": [
    {
     "name": "stdout",
     "output_type": "stream",
     "text": [
      "Gini index 0.5\n"
     ]
    }
   ],
   "source": [
    "p_co=10/20\n",
    "p_c1=10/20\n",
    "print(f'Gini index {gini([p_co,p_c1])}')"
   ]
  },
  {
   "cell_type": "markdown",
   "id": "65e430d7",
   "metadata": {},
   "source": [
    "#### Question B"
   ]
  },
  {
   "cell_type": "code",
   "execution_count": 141,
   "id": "2d6b8079",
   "metadata": {},
   "outputs": [
    {
     "data": {
      "text/plain": [
       "0"
      ]
     },
     "execution_count": 141,
     "metadata": {},
     "output_type": "execute_result"
    }
   ],
   "source": [
    "#p_c1=p_c2=p_c3=p_c4=...=p_c20= 1\n",
    "gini([1])\n",
    "# so for all the players the gini impurity = 0"
   ]
  },
  {
   "cell_type": "code",
   "execution_count": 144,
   "id": "978ef9ed",
   "metadata": {},
   "outputs": [
    {
     "data": {
      "text/plain": [
       "[0.0,\n",
       " 0.0,\n",
       " 0.0,\n",
       " 0.0,\n",
       " 0.0,\n",
       " 0.0,\n",
       " 0.0,\n",
       " 0.0,\n",
       " 0.0,\n",
       " 0.0,\n",
       " 0.0,\n",
       " 0.0,\n",
       " 0.0,\n",
       " 0.0,\n",
       " 0.0,\n",
       " 0.0,\n",
       " 0.0,\n",
       " 0.0,\n",
       " 0.0,\n",
       " 0.0]"
      ]
     },
     "execution_count": 144,
     "metadata": {},
     "output_type": "execute_result"
    }
   ],
   "source": [
    "#weighted gini Index\n",
    "id_wise=[(1/20)*0]*20\n",
    "id_wise"
   ]
  },
  {
   "cell_type": "code",
   "execution_count": 146,
   "id": "a12be9be",
   "metadata": {},
   "outputs": [
    {
     "data": {
      "text/plain": [
       "0.0"
      ]
     },
     "execution_count": 146,
     "metadata": {},
     "output_type": "execute_result"
    }
   ],
   "source": [
    "overall_weighted_gini_id=np.sum(id_wise)\n",
    "overall_weighted_gini_id"
   ]
  },
  {
   "cell_type": "markdown",
   "id": "0e58159f",
   "metadata": {},
   "source": [
    "#### Question C"
   ]
  },
  {
   "cell_type": "code",
   "execution_count": 78,
   "id": "53d14495",
   "metadata": {},
   "outputs": [],
   "source": [
    "gm_co=6/10\n",
    "gm_c1=4/10\n",
    "gf_co=4/10\n",
    "gf_c1=6/10\n",
    "gini_gm=gini([gm_co,gm_c1])\n",
    "gini_gf=gini([gf_co,gf_c1])"
   ]
  },
  {
   "cell_type": "code",
   "execution_count": 79,
   "id": "90fcf4a7",
   "metadata": {},
   "outputs": [
    {
     "data": {
      "text/plain": [
       "0.48"
      ]
     },
     "execution_count": 79,
     "metadata": {},
     "output_type": "execute_result"
    }
   ],
   "source": [
    "weighted_gini=gini_gm #As gini for both male and female is same avg \n",
    "# we can put either 1 of em."
   ]
  },
  {
   "cell_type": "markdown",
   "id": "372bb779",
   "metadata": {},
   "source": [
    "#### Question D"
   ]
  },
  {
   "cell_type": "code",
   "execution_count": 80,
   "id": "21cd4862",
   "metadata": {},
   "outputs": [],
   "source": [
    "cf_co=1/4\n",
    "cf_c1=3/4\n",
    "cs_co=8/8\n",
    "cs_c1=0\n",
    "cl_co=1/8\n",
    "cl_c1=7/8\n",
    "gini_cf=gini([cf_co,cf_c1])\n",
    "gini_cs=gini([cs_co,cs_c1])\n",
    "gini_cl=gini([cl_co,cl_c1])"
   ]
  },
  {
   "cell_type": "code",
   "execution_count": 82,
   "id": "cecfd4db",
   "metadata": {},
   "outputs": [
    {
     "data": {
      "text/plain": [
       "0.16250000000000003"
      ]
     },
     "execution_count": 82,
     "metadata": {},
     "output_type": "execute_result"
    }
   ],
   "source": [
    "weighted_gini_car=(4/20)*gini_cf + gini_cs*(8/20) + gini_cl*(8/20)\n",
    "weighted_gini_car"
   ]
  },
  {
   "cell_type": "markdown",
   "id": "15f93cf0",
   "metadata": {},
   "source": [
    "#### Question E"
   ]
  },
  {
   "cell_type": "code",
   "execution_count": 83,
   "id": "e5757b1f",
   "metadata": {},
   "outputs": [],
   "source": [
    "ss_co=3/5\n",
    "ss_c1=2/5\n",
    "sm_co=3/7\n",
    "sm_c1=4/7\n",
    "sl_co=2/4\n",
    "sl_c1=2/4\n",
    "sxl_co=2/4\n",
    "sxl_c1=2/4\n",
    "gini_ss=gini([ss_co,ss_c1])\n",
    "gini_sm=gini([sm_co,sm_c1])\n",
    "gini_sl=gini([sl_co,sl_c1])\n",
    "gini_sxl=gini([sxl_co,sxl_c1])"
   ]
  },
  {
   "cell_type": "code",
   "execution_count": 84,
   "id": "6eb74e64",
   "metadata": {},
   "outputs": [
    {
     "data": {
      "text/plain": [
       "0.49142857142857144"
      ]
     },
     "execution_count": 84,
     "metadata": {},
     "output_type": "execute_result"
    }
   ],
   "source": [
    "weighted_gini_shirt=(5/20)*gini_ss + gini_sm*(7/20) + gini_sl*(4/20) + gini_sxl*(4/20)\n",
    "weighted_gini_shirt"
   ]
  },
  {
   "cell_type": "markdown",
   "id": "02865020",
   "metadata": {},
   "source": [
    "## Question 6"
   ]
  },
  {
   "cell_type": "code",
   "execution_count": 154,
   "id": "631b7024",
   "metadata": {},
   "outputs": [
    {
     "data": {
      "text/plain": [
       "0"
      ]
     },
     "execution_count": 154,
     "metadata": {},
     "output_type": "execute_result"
    }
   ],
   "source": [
    "#x>0.5\n",
    "above_x5=gini([1,0])\n",
    "above_x5\n",
    "# x<0.5"
   ]
  },
  {
   "cell_type": "code",
   "execution_count": 155,
   "id": "ffd8c264",
   "metadata": {},
   "outputs": [
    {
     "data": {
      "text/plain": [
       "0.4992"
      ]
     },
     "execution_count": 155,
     "metadata": {},
     "output_type": "execute_result"
    }
   ],
   "source": [
    "less_x5=gini([0.26/0.5,0.24/0.5])\n",
    "less_x5"
   ]
  },
  {
   "cell_type": "code",
   "execution_count": 157,
   "id": "eba0e391",
   "metadata": {
    "scrolled": true
   },
   "outputs": [
    {
     "data": {
      "text/plain": [
       "0.2496"
      ]
     },
     "execution_count": 157,
     "metadata": {},
     "output_type": "execute_result"
    }
   ],
   "source": [
    "weighted_gini_index=0.5*less_x5 + 0.5*above_x5\n",
    "weighted_gini_index"
   ]
  },
  {
   "cell_type": "markdown",
   "id": "3429174c",
   "metadata": {},
   "source": [
    "### y=0.4"
   ]
  },
  {
   "cell_type": "code",
   "execution_count": 158,
   "id": "9ef5ec6b",
   "metadata": {},
   "outputs": [
    {
     "data": {
      "text/plain": [
       "0.48"
      ]
     },
     "execution_count": 158,
     "metadata": {},
     "output_type": "execute_result"
    }
   ],
   "source": [
    "# y >0.4\n",
    "above_y4=gini([0.36/0.6,0.24/0.6])\n",
    "above_y4"
   ]
  },
  {
   "cell_type": "code",
   "execution_count": 159,
   "id": "99f351e4",
   "metadata": {},
   "outputs": [
    {
     "data": {
      "text/plain": [
       "0.288"
      ]
     },
     "execution_count": 159,
     "metadata": {},
     "output_type": "execute_result"
    }
   ],
   "source": [
    "less_y4=gini([1])\n",
    "weighted_gini_index_y4=0.4*less_y4 + 0.6*above_y4\n",
    "weighted_gini_index_y4"
   ]
  },
  {
   "cell_type": "markdown",
   "id": "fdb46ba6",
   "metadata": {},
   "source": [
    "### y=0.7"
   ]
  },
  {
   "cell_type": "code",
   "execution_count": 160,
   "id": "e4363dbb",
   "metadata": {},
   "outputs": [
    {
     "data": {
      "text/plain": [
       "0.42000000000000004"
      ]
     },
     "execution_count": 160,
     "metadata": {},
     "output_type": "execute_result"
    }
   ],
   "source": [
    "above_y7=gini([0.21/0.3,0.09/0.3])\n",
    "above_y7"
   ]
  },
  {
   "cell_type": "code",
   "execution_count": 161,
   "id": "da3d1728",
   "metadata": {},
   "outputs": [
    {
     "data": {
      "text/plain": [
       "0.33673469387755084"
      ]
     },
     "execution_count": 161,
     "metadata": {},
     "output_type": "execute_result"
    }
   ],
   "source": [
    "less_y7=gini([0.55/0.7,0.15/0.7])\n",
    "less_y7"
   ]
  },
  {
   "cell_type": "code",
   "execution_count": 162,
   "id": "72e07166",
   "metadata": {},
   "outputs": [
    {
     "data": {
      "text/plain": [
       "0.36171428571428554"
      ]
     },
     "execution_count": 162,
     "metadata": {},
     "output_type": "execute_result"
    }
   ],
   "source": [
    "weighted_gini_y7=0.7*less_y7 + 0.3*above_y7\n",
    "weighted_gini_y7"
   ]
  },
  {
   "cell_type": "markdown",
   "id": "db81f219",
   "metadata": {},
   "source": [
    "### x = 0.2"
   ]
  },
  {
   "cell_type": "code",
   "execution_count": 163,
   "id": "9ce82f4e",
   "metadata": {},
   "outputs": [
    {
     "data": {
      "text/plain": [
       "0.3487500000000001"
      ]
     },
     "execution_count": 163,
     "metadata": {},
     "output_type": "execute_result"
    }
   ],
   "source": [
    "above_x2=gini([0.62/0.8,0.18/0.8])\n",
    "above_x2"
   ]
  },
  {
   "cell_type": "code",
   "execution_count": 164,
   "id": "8b860668",
   "metadata": {},
   "outputs": [
    {
     "data": {
      "text/plain": [
       "0.41999999999999993"
      ]
     },
     "execution_count": 164,
     "metadata": {},
     "output_type": "execute_result"
    }
   ],
   "source": [
    "less_x2=gini([0.14/0.2,0.06/0.2])\n",
    "less_x2"
   ]
  },
  {
   "cell_type": "code",
   "execution_count": 165,
   "id": "238c3206",
   "metadata": {},
   "outputs": [
    {
     "data": {
      "text/plain": [
       "0.3630000000000001"
      ]
     },
     "execution_count": 165,
     "metadata": {},
     "output_type": "execute_result"
    }
   ],
   "source": [
    "weighted_gini_x2=0.2*less_x2 + 0.8*above_x2\n",
    "weighted_gini_x2"
   ]
  },
  {
   "cell_type": "code",
   "execution_count": null,
   "id": "a38ec2b8",
   "metadata": {},
   "outputs": [],
   "source": []
  },
  {
   "cell_type": "markdown",
   "id": "2fb7c4f1",
   "metadata": {},
   "source": [
    "### Level 2 (left hand side)"
   ]
  },
  {
   "cell_type": "markdown",
   "id": "a5eba0ac",
   "metadata": {},
   "source": [
    "### y = 0.4"
   ]
  },
  {
   "cell_type": "code",
   "execution_count": 17,
   "id": "e11a6647",
   "metadata": {},
   "outputs": [
    {
     "data": {
      "text/plain": [
       "0.31999999999999984"
      ]
     },
     "execution_count": 17,
     "metadata": {},
     "output_type": "execute_result"
    }
   ],
   "source": [
    "#y=0.4\n",
    "above_y4_lx5=gini([0.06/0.3,0.24/0.3])\n",
    "above_y4_lx5"
   ]
  },
  {
   "cell_type": "code",
   "execution_count": 18,
   "id": "ecb0aaf6",
   "metadata": {},
   "outputs": [
    {
     "data": {
      "text/plain": [
       "0"
      ]
     },
     "execution_count": 18,
     "metadata": {},
     "output_type": "execute_result"
    }
   ],
   "source": [
    "less_y4_lx5=gini([1,0])\n",
    "less_y4_lx5"
   ]
  },
  {
   "cell_type": "code",
   "execution_count": 19,
   "id": "eab6eb06",
   "metadata": {},
   "outputs": [
    {
     "data": {
      "text/plain": [
       "0.1919999999999999"
      ]
     },
     "execution_count": 19,
     "metadata": {},
     "output_type": "execute_result"
    }
   ],
   "source": [
    "weighted_gini_y4_lx5=(0.3/0.5)*above_y4_lx5 + 0\n",
    "weighted_gini_y4_lx5"
   ]
  },
  {
   "cell_type": "markdown",
   "id": "4b0ce5fd",
   "metadata": {},
   "source": [
    "### y =0.7"
   ]
  },
  {
   "cell_type": "code",
   "execution_count": 20,
   "id": "71a57319",
   "metadata": {},
   "outputs": [
    {
     "data": {
      "text/plain": [
       "0.48"
      ]
     },
     "execution_count": 20,
     "metadata": {},
     "output_type": "execute_result"
    }
   ],
   "source": [
    "# y = 0.7\n",
    "above_y7_lx5=gini([0.06/0.15,0.09/0.15])\n",
    "above_y7_lx5"
   ]
  },
  {
   "cell_type": "code",
   "execution_count": 21,
   "id": "1caefd73",
   "metadata": {},
   "outputs": [
    {
     "data": {
      "text/plain": [
       "0.4897959183673468"
      ]
     },
     "execution_count": 21,
     "metadata": {},
     "output_type": "execute_result"
    }
   ],
   "source": [
    "less_y7_lx5=gini([0.2/0.35,0.15/0.35])\n",
    "less_y7_lx5"
   ]
  },
  {
   "cell_type": "code",
   "execution_count": 22,
   "id": "1bd2ddd5",
   "metadata": {},
   "outputs": [
    {
     "data": {
      "text/plain": [
       "0.48685714285714277"
      ]
     },
     "execution_count": 22,
     "metadata": {},
     "output_type": "execute_result"
    }
   ],
   "source": [
    "weighted_gini_y7_lx5=(0.15/0.5)*above_y7_lx5 + (0.35/0.5)*less_y7_lx5\n",
    "weighted_gini_y7_lx5"
   ]
  },
  {
   "cell_type": "markdown",
   "id": "725f6703",
   "metadata": {},
   "source": [
    "### x=0.2"
   ]
  },
  {
   "cell_type": "code",
   "execution_count": 23,
   "id": "04e0df31",
   "metadata": {},
   "outputs": [
    {
     "data": {
      "text/plain": [
       "0.41999999999999993"
      ]
     },
     "execution_count": 23,
     "metadata": {},
     "output_type": "execute_result"
    }
   ],
   "source": [
    "above_x2_lx5=gini([0.14/0.2,0.06/0.2])\n",
    "above_x2_lx5"
   ]
  },
  {
   "cell_type": "code",
   "execution_count": 24,
   "id": "6fc291c8",
   "metadata": {},
   "outputs": [
    {
     "data": {
      "text/plain": [
       "0.48"
      ]
     },
     "execution_count": 24,
     "metadata": {},
     "output_type": "execute_result"
    }
   ],
   "source": [
    "less_x2_lx5=gini([0.12/0.3,0.18/0.3])\n",
    "less_x2_lx5"
   ]
  },
  {
   "cell_type": "code",
   "execution_count": 25,
   "id": "b1a640aa",
   "metadata": {},
   "outputs": [
    {
     "data": {
      "text/plain": [
       "0.44399999999999995"
      ]
     },
     "execution_count": 25,
     "metadata": {},
     "output_type": "execute_result"
    }
   ],
   "source": [
    "weighted_gini_y7_lx5=(0.3/0.5)*above_x2_lx5 + (0.2/0.5)*less_x2_lx5\n",
    "weighted_gini_y7_lx5"
   ]
  },
  {
   "cell_type": "code",
   "execution_count": null,
   "id": "1a62c80d",
   "metadata": {},
   "outputs": [],
   "source": []
  },
  {
   "cell_type": "markdown",
   "id": "cf5757fc",
   "metadata": {},
   "source": [
    "### level 2 (Right Hand Side x>0.5)"
   ]
  },
  {
   "cell_type": "markdown",
   "id": "8d9028f5",
   "metadata": {},
   "source": [
    "### y=0.7"
   ]
  },
  {
   "cell_type": "code",
   "execution_count": 26,
   "id": "42ec7eeb",
   "metadata": {},
   "outputs": [
    {
     "data": {
      "text/plain": [
       "0.0"
      ]
     },
     "execution_count": 26,
     "metadata": {},
     "output_type": "execute_result"
    }
   ],
   "source": [
    "less_y7=gini([0.35/0.35,0/35])\n",
    "above_y7=gini([0.15/0.15,0/0.15])\n",
    "weighted_gini_y7_gx5=(0.15/0.5)*above_y7+(0.35/0.5)*less_y7\n",
    "weighted_gini_y7_gx5"
   ]
  },
  {
   "cell_type": "markdown",
   "id": "8c62decb",
   "metadata": {},
   "source": [
    "### x=0.2"
   ]
  },
  {
   "cell_type": "code",
   "execution_count": 27,
   "id": "0cb3fe33",
   "metadata": {},
   "outputs": [
    {
     "data": {
      "text/plain": [
       "0.0"
      ]
     },
     "execution_count": 27,
     "metadata": {},
     "output_type": "execute_result"
    }
   ],
   "source": [
    "less_x2=gini([0,0])\n",
    "above_x2=gini([0.5/0.5,0])\n",
    "weighted_gini_x2_gx5=0*less_x2 + above_x2*(0.5/0.5)\n",
    "weighted_gini_x2_gx5"
   ]
  },
  {
   "cell_type": "markdown",
   "id": "c85893f4",
   "metadata": {},
   "source": [
    "### We will leave the RHS as a leaf with A class"
   ]
  },
  {
   "cell_type": "markdown",
   "id": "c1bf8a78",
   "metadata": {},
   "source": [
    "### Level3 (Root,Left, Left) \n",
    "We only had one pure split that is A (x<=0.5,y<=0.4)"
   ]
  },
  {
   "cell_type": "markdown",
   "id": "f966cf02",
   "metadata": {},
   "source": [
    "### Level 3 (Root,left,Right)"
   ]
  },
  {
   "cell_type": "markdown",
   "id": "477302e7",
   "metadata": {},
   "source": [
    "### y=0.7"
   ]
  },
  {
   "cell_type": "code",
   "execution_count": 28,
   "id": "9ff14caf",
   "metadata": {},
   "outputs": [
    {
     "data": {
      "text/plain": [
       "0.24"
      ]
     },
     "execution_count": 28,
     "metadata": {},
     "output_type": "execute_result"
    }
   ],
   "source": [
    "less_y7=gini([0,1])\n",
    "above_y7=gini([0.06/0.15,0.09/0.15])\n",
    "weighted_gini_y7_lx5_gy4=(0.15/0.3)*less_y7 + (0.15/0.3)*above_y7\n",
    "weighted_gini_y7_lx5_gy4"
   ]
  },
  {
   "cell_type": "markdown",
   "id": "a3cb64b2",
   "metadata": {},
   "source": [
    "### x=0.2"
   ]
  },
  {
   "cell_type": "code",
   "execution_count": 29,
   "id": "9bbbc425",
   "metadata": {},
   "outputs": [
    {
     "data": {
      "text/plain": [
       "0.2"
      ]
     },
     "execution_count": 29,
     "metadata": {},
     "output_type": "execute_result"
    }
   ],
   "source": [
    "less_x2=gini([0.06/0.12,0.06/0.12])\n",
    "above_x2=gini([0,0.18/0.18])\n",
    "weighted_gini_x2_lx5_gy4=(0.12/0.3)*less_x2 + (0.18/0.3)*above_x2\n",
    "weighted_gini_x2_lx5_gy4"
   ]
  },
  {
   "cell_type": "markdown",
   "id": "5bb4e022",
   "metadata": {},
   "source": [
    "### We will  fix the x=0.2 as the right node for y=0.4"
   ]
  },
  {
   "cell_type": "markdown",
   "id": "ab006584",
   "metadata": {},
   "source": [
    "### And we are only left with y=0.7 so we will put it on the left hand side of x=0.2"
   ]
  },
  {
   "cell_type": "markdown",
   "id": "a562dbcb",
   "metadata": {},
   "source": [
    "## Question 7"
   ]
  },
  {
   "cell_type": "code",
   "execution_count": 98,
   "id": "8af085a7",
   "metadata": {},
   "outputs": [
    {
     "data": {
      "text/plain": [
       "1.0"
      ]
     },
     "execution_count": 98,
     "metadata": {},
     "output_type": "execute_result"
    }
   ],
   "source": [
    "pos=10/20\n",
    "neg=10/20\n",
    "parent_ent=entropy([pos,neg])\n",
    "parent_ent"
   ]
  },
  {
   "cell_type": "markdown",
   "id": "8e6be007",
   "metadata": {},
   "source": [
    "### 7 A"
   ]
  },
  {
   "cell_type": "code",
   "execution_count": 111,
   "id": "06d8df22",
   "metadata": {},
   "outputs": [],
   "source": [
    "import numpy as np"
   ]
  },
  {
   "cell_type": "code",
   "execution_count": 139,
   "id": "86b5064d",
   "metadata": {},
   "outputs": [
    {
     "data": {
      "text/plain": [
       "1.0"
      ]
     },
     "execution_count": 139,
     "metadata": {},
     "output_type": "execute_result"
    }
   ],
   "source": [
    "ent=entropy([1]*20)\n",
    "Info_gain_A=parent_ent-np.absolute(ent)\n",
    "Info_gain_A"
   ]
  },
  {
   "cell_type": "markdown",
   "id": "6a0614ee",
   "metadata": {},
   "source": [
    "### 7 B"
   ]
  },
  {
   "cell_type": "code",
   "execution_count": 99,
   "id": "73ac0a6b",
   "metadata": {},
   "outputs": [],
   "source": [
    "lhand_pos=9/10\n",
    "lhand_neg=1/10\n",
    "rhand_pos=1/10\n",
    "rhand_neg=9/10\n",
    "l_hand_entr=entropy([lhand_pos,lhand_neg])\n",
    "r_hand_entr=entropy([rhand_pos,rhand_neg])\n",
    "weighted_entr= l_hand_entr = r_hand_entr #It because avg of 1+1 is 1 \n",
    "# As here l_hand and r_hand entropy are same the weighted entropy is just 1 of em."
   ]
  },
  {
   "cell_type": "code",
   "execution_count": 100,
   "id": "a41c7b8e",
   "metadata": {},
   "outputs": [
    {
     "data": {
      "text/plain": [
       "0.5310044064107188"
      ]
     },
     "execution_count": 100,
     "metadata": {},
     "output_type": "execute_result"
    }
   ],
   "source": [
    "Info_gain_B=parent_ent - weighted_entr\n",
    "Info_gain_B"
   ]
  },
  {
   "cell_type": "code",
   "execution_count": 103,
   "id": "8917a5b0",
   "metadata": {},
   "outputs": [],
   "source": [
    "def splitInfo(li):\n",
    "    split=0\n",
    "    for i in li:\n",
    "        split += i * log (i)\n",
    "    return -split"
   ]
  },
  {
   "cell_type": "markdown",
   "id": "31d27ee2",
   "metadata": {},
   "source": [
    "### 7 D"
   ]
  },
  {
   "cell_type": "code",
   "execution_count": 138,
   "id": "215de108",
   "metadata": {},
   "outputs": [
    {
     "data": {
      "text/plain": [
       "0.23137821315975915"
      ]
     },
     "execution_count": 138,
     "metadata": {},
     "output_type": "execute_result"
    }
   ],
   "source": [
    "Gain_ratio_D=Info_gain_A/splitInfo([1/20]*20)\n",
    "Gain_ratio_D"
   ]
  },
  {
   "cell_type": "markdown",
   "id": "0f1aa76e",
   "metadata": {},
   "source": [
    "### 7 E"
   ]
  },
  {
   "cell_type": "code",
   "execution_count": 106,
   "id": "c5880d2b",
   "metadata": {},
   "outputs": [
    {
     "data": {
      "text/plain": [
       "0.5310044064107188"
      ]
     },
     "execution_count": 106,
     "metadata": {},
     "output_type": "execute_result"
    }
   ],
   "source": [
    "Gain_ratio_E=Info_gain_B/splitInfo([10/20,10/20])\n",
    "Gain_ratio_E"
   ]
  },
  {
   "cell_type": "code",
   "execution_count": null,
   "id": "d024dff7",
   "metadata": {},
   "outputs": [],
   "source": []
  }
 ],
 "metadata": {
  "kernelspec": {
   "display_name": "Python 3 (ipykernel)",
   "language": "python",
   "name": "python3"
  },
  "language_info": {
   "codemirror_mode": {
    "name": "ipython",
    "version": 3
   },
   "file_extension": ".py",
   "mimetype": "text/x-python",
   "name": "python",
   "nbconvert_exporter": "python",
   "pygments_lexer": "ipython3",
   "version": "3.11.4"
  }
 },
 "nbformat": 4,
 "nbformat_minor": 5
}
